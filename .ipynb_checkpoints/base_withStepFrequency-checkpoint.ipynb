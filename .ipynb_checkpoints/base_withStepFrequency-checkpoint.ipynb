{
 "cells": [
  {
   "cell_type": "code",
   "execution_count": 1,
   "metadata": {
    "id": "8_LyzKCGL6z-"
   },
   "outputs": [],
   "source": [
    "import pandas as pd\n",
    "from scipy import signal\n",
    "import numpy as np\n",
    "import matplotlib.pyplot as plt\n",
    "import seaborn\n",
    "# from helper_methods import *"
   ]
  },
  {
   "cell_type": "code",
   "execution_count": 2,
   "metadata": {},
   "outputs": [],
   "source": [
    "seaborn.set()"
   ]
  },
  {
   "cell_type": "code",
   "execution_count": 3,
   "metadata": {},
   "outputs": [],
   "source": [
    "# Global parameters\n",
    "Fs = -1"
   ]
  },
  {
   "cell_type": "code",
   "execution_count": 4,
   "metadata": {},
   "outputs": [],
   "source": [
    "cutoff = 8  # in Hz\n",
    "\n",
    "INPUT_DIRECTORY = \"data/\"\n",
    "INPUT_FILES = []\n"
   ]
  },
  {
   "cell_type": "markdown",
   "metadata": {},
   "source": [
    "## Functions (may not all be needed)"
   ]
  },
  {
   "cell_type": "code",
   "execution_count": 5,
   "metadata": {},
   "outputs": [],
   "source": [
    "# Calculate sampling rate (rounded to nearest integer) based on recorded data\n",
    "# [IN]\n",
    "#  x: Series containing the relative time values (from 0-##.##)\n",
    "# [OUT]\n",
    "#  Fs: samples per second, Hz \n",
    "def get_sampling_rate(x):\n",
    "    return round(len(x.index) / x.iloc[-1])"
   ]
  },
  {
   "cell_type": "code",
   "execution_count": 6,
   "metadata": {},
   "outputs": [],
   "source": [
    "# Shows plot of total acceleration values\n",
    "# [IN]\n",
    "#  df: Dataframe containing x, y, z, total acceleration, and time (from 0 to ## seconds)\n",
    "def plot_accel(df):\n",
    "    plt.figure(figsize=(10,5))\n",
    "    plt.title('Total Acceleration')\n",
    "    plt.xlabel('Time [s]')\n",
    "    plt.ylabel('Acceleration [m/s^2]')\n",
    "    plt.plot(df['time'].values, df['atotal'].values, 'b-', linewidth=1)\n",
    "    plt.show()"
   ]
  },
  {
   "cell_type": "code",
   "execution_count": 7,
   "metadata": {},
   "outputs": [],
   "source": [
    "# Apply butterworth filter to values in Dataframe; use with df.apply()\n",
    "# [IN]\n",
    "#  df: Dataframe containing x-,y-,z- acceleration values ('atotal' not needed, can be calculated after)\n",
    "def butterworth_lowpass(df):\n",
    "    nyq = 0.5 * Fs\n",
    "    normalized_cutoff = cutoff / nyq\n",
    "    b, a = signal.butter(3, normalized_cutoff, btype='lowpass')\n",
    "    return signal.filtfilt(b, a, df)"
   ]
  },
  {
   "cell_type": "code",
   "execution_count": 8,
   "metadata": {},
   "outputs": [],
   "source": [
    "# Shows FFT of the total acceleration\n",
    "# [IN]\n",
    "#  df: Dataframe containing acceleration values, must have 'atotal'\n",
    "def plot_fft(df):\n",
    "    w = np.fft.fft(df['atotal'])\n",
    "    freqs = np.fft.fftfreq(len(df['atotal']))\n",
    "    freqs = freqs * Fs\n",
    "\n",
    "    n_samples = len(w)\n",
    "    middle = -1\n",
    "    if (n_samples % 2 == 0):\n",
    "        middle = (n_samples // 2) - 1\n",
    "    else:\n",
    "        middle = (n_samples // 2)\n",
    "\n",
    "    plt.figure(figsize=(10,5))\n",
    "    plt.title('One-sided Frequency Spectrum (0 Hz excluded)')\n",
    "    plt.xlabel('Frequency [Hz]')\n",
    "    plt.ylabel('Magnitude')\n",
    "    plt.plot(freqs[1:middle+1], np.abs(w[1:middle+1]))\n",
    "\n",
    "    plt.figure(figsize=(10,5))\n",
    "    plt.title('Frequency Spectrum')\n",
    "    plt.xlabel('Frequency [Hz]')\n",
    "    plt.ylabel('Magnitude')\n",
    "    plt.plot(freqs, np.abs(w))\n",
    "\n",
    "    plt.show()"
   ]
  },
  {
   "cell_type": "code",
   "execution_count": 9,
   "metadata": {},
   "outputs": [],
   "source": [
    "# Calculates the FFT of the total acceleration into a Dataframe\n",
    "# [IN]\n",
    "#  df: Dataframe containing acceleration values, must have 'atotal'\n",
    "# [OUT]\n",
    "#  fft_df: Dataframe with two columns ['freq', 'value'], containing the result of applying FFT to total acceleration\n",
    "def get_fft(df):\n",
    "    w = np.fft.fft(df['atotal'])\n",
    "    freqs = np.fft.fftfreq(len(df['atotal']))\n",
    "    freqs = freqs * Fs\n",
    "    \n",
    "    fft_df = pd.DataFrame({\n",
    "        'freq': freqs,\n",
    "        'value': np.abs(w)\n",
    "    })\n",
    "    \n",
    "    return fft_df"
   ]
  },
  {
   "cell_type": "code",
   "execution_count": 10,
   "metadata": {},
   "outputs": [],
   "source": [
    "# Formats column names to be ['ax', 'ay', 'az', 'atotal']; Alfred's phone recorded it with units, and 'aT' label for last column\n",
    "# [IN]\n",
    "#  col_name: the column name as a string\n",
    "# [OUT]\n",
    "#  new_col: properly formatted column name (to conform to other group members' data)\n",
    "def format_column(col_name):\n",
    "    new_col = col_name.split('(')[0].strip()\n",
    "    if (new_col == 'aT'):\n",
    "        new_col = 'atotal'\n",
    "    return new_col"
   ]
  },
  {
   "cell_type": "code",
   "execution_count": 11,
   "metadata": {},
   "outputs": [],
   "source": [
    "# For filename with <id>_<pos>_<step_count>.csv format, returns the step count as an integer\n",
    "# [IN]\n",
    "#  filename: string with the filename of input csv\n",
    "# [OUT]\n",
    "#  int(count): the actual step count as an integer\n",
    "def extract_step_count(filename):\n",
    "    count_with_csv = filename.split('_')[2]\n",
    "    count = count_with_csv.split('.')[0]\n",
    "    return int(count)"
   ]
  },
  {
   "cell_type": "code",
   "execution_count": 12,
   "metadata": {},
   "outputs": [],
   "source": [
    "# Prints predicted step frequencies and step count, and compares with real step count if available\n",
    "# [IN]\n",
    "#  pred_freq: the predicted step frequency\n",
    "#  duration: the entire time taken for data recording\n",
    "#  real_step_count: the actual step count from data collection (default -1 if not available)\n",
    "def print_step_comparisons(pred_freq, duration, real_step_count=-1):\n",
    "    predicted_step_count = pred_freq * duration\n",
    "    predicted_step_60 = pred_freq * 60\n",
    "    \n",
    "    print('Predicted step frequency: ', pred_freq)\n",
    "    print('Predicted step frequency (assuming 60s walking): ', round(predicted_step_60))\n",
    "    print('Predicted step count (using total duration): ', round(predicted_step_count))\n",
    "    if real_step_count > 0:\n",
    "        print('Real step count: ', real_step_count)"
   ]
  },
  {
   "cell_type": "code",
   "execution_count": 13,
   "metadata": {},
   "outputs": [],
   "source": [
    "# Returns predicted step counts with given step frequency and duration\n",
    "# [IN]\n",
    "#  pred_freq: the predicted step frequency\n",
    "#  duration: the entire time taken for data recording\n",
    "# [OUT]\n",
    "#  predicted_step_count: use given frequency to calculate steps throughout entire duration\n",
    "#  predicted_step_60: use given frequency to calculate steps throught 60 seconds\n",
    "def get_predicted_steps(pred_freq, duration):\n",
    "    predicted_step_count = round(pred_freq * duration)\n",
    "    predicted_step_60 = round(pred_freq * 60)\n",
    "    \n",
    "    return (predicted_step_count, predicted_step_60)"
   ]
  },
  {
   "cell_type": "markdown",
   "metadata": {},
   "source": [
    "## Initialize Dataframe for final values"
   ]
  },
  {
   "cell_type": "code",
   "execution_count": 14,
   "metadata": {},
   "outputs": [
    {
     "data": {
      "text/html": [
       "<div>\n",
       "<style scoped>\n",
       "    .dataframe tbody tr th:only-of-type {\n",
       "        vertical-align: middle;\n",
       "    }\n",
       "\n",
       "    .dataframe tbody tr th {\n",
       "        vertical-align: top;\n",
       "    }\n",
       "\n",
       "    .dataframe thead th {\n",
       "        text-align: right;\n",
       "    }\n",
       "</style>\n",
       "<table border=\"1\" class=\"dataframe\">\n",
       "  <thead>\n",
       "    <tr style=\"text-align: right;\">\n",
       "      <th></th>\n",
       "      <th>filename</th>\n",
       "      <th>real_steps</th>\n",
       "      <th>freq1</th>\n",
       "      <th>steps1</th>\n",
       "      <th>freq2</th>\n",
       "      <th>steps2</th>\n",
       "      <th>freq3</th>\n",
       "      <th>steps3</th>\n",
       "    </tr>\n",
       "  </thead>\n",
       "  <tbody>\n",
       "  </tbody>\n",
       "</table>\n",
       "</div>"
      ],
      "text/plain": [
       "Empty DataFrame\n",
       "Columns: [filename, real_steps, freq1, steps1, freq2, steps2, freq3, steps3]\n",
       "Index: []"
      ]
     },
     "execution_count": 14,
     "metadata": {},
     "output_type": "execute_result"
    }
   ],
   "source": [
    "results = pd.DataFrame(columns=['filename', 'real_steps', 'freq1', 'steps1', 'freq2','steps2', 'freq3', 'steps3'])\n",
    "results"
   ]
  },
  {
   "cell_type": "code",
   "execution_count": 15,
   "metadata": {},
   "outputs": [],
   "source": [
    "new_row = []"
   ]
  },
  {
   "cell_type": "markdown",
   "metadata": {},
   "source": [
    "## Read data from .csv"
   ]
  },
  {
   "cell_type": "code",
   "execution_count": 16,
   "metadata": {
    "colab": {
     "base_uri": "https://localhost:8080/",
     "height": 328
    },
    "id": "nC5xjsRNfJos",
    "outputId": "1df8241b-3b8c-4a26-fddd-c2f94733a5f7",
    "scrolled": false
   },
   "outputs": [
    {
     "data": {
      "text/html": [
       "<div>\n",
       "<style scoped>\n",
       "    .dataframe tbody tr th:only-of-type {\n",
       "        vertical-align: middle;\n",
       "    }\n",
       "\n",
       "    .dataframe tbody tr th {\n",
       "        vertical-align: top;\n",
       "    }\n",
       "\n",
       "    .dataframe thead th {\n",
       "        text-align: right;\n",
       "    }\n",
       "</style>\n",
       "<table border=\"1\" class=\"dataframe\">\n",
       "  <thead>\n",
       "    <tr style=\"text-align: right;\">\n",
       "      <th></th>\n",
       "      <th>time</th>\n",
       "      <th>ax</th>\n",
       "      <th>ay</th>\n",
       "      <th>az</th>\n",
       "      <th>atotal</th>\n",
       "    </tr>\n",
       "  </thead>\n",
       "  <tbody>\n",
       "    <tr>\n",
       "      <th>0</th>\n",
       "      <td>0.000000</td>\n",
       "      <td>-0.0307</td>\n",
       "      <td>0.0410</td>\n",
       "      <td>0.0209</td>\n",
       "      <td>0.055</td>\n",
       "    </tr>\n",
       "    <tr>\n",
       "      <th>1</th>\n",
       "      <td>0.001124</td>\n",
       "      <td>0.0413</td>\n",
       "      <td>0.0191</td>\n",
       "      <td>0.0289</td>\n",
       "      <td>0.054</td>\n",
       "    </tr>\n",
       "    <tr>\n",
       "      <th>2</th>\n",
       "      <td>0.001571</td>\n",
       "      <td>0.1131</td>\n",
       "      <td>0.0758</td>\n",
       "      <td>0.0774</td>\n",
       "      <td>0.157</td>\n",
       "    </tr>\n",
       "    <tr>\n",
       "      <th>3</th>\n",
       "      <td>0.011621</td>\n",
       "      <td>0.0729</td>\n",
       "      <td>0.1319</td>\n",
       "      <td>0.1543</td>\n",
       "      <td>0.216</td>\n",
       "    </tr>\n",
       "    <tr>\n",
       "      <th>4</th>\n",
       "      <td>0.012436</td>\n",
       "      <td>0.0067</td>\n",
       "      <td>0.0760</td>\n",
       "      <td>0.1240</td>\n",
       "      <td>0.146</td>\n",
       "    </tr>\n",
       "    <tr>\n",
       "      <th>...</th>\n",
       "      <td>...</td>\n",
       "      <td>...</td>\n",
       "      <td>...</td>\n",
       "      <td>...</td>\n",
       "      <td>...</td>\n",
       "    </tr>\n",
       "    <tr>\n",
       "      <th>17232</th>\n",
       "      <td>85.568552</td>\n",
       "      <td>-0.1385</td>\n",
       "      <td>-0.1635</td>\n",
       "      <td>-0.3993</td>\n",
       "      <td>0.453</td>\n",
       "    </tr>\n",
       "    <tr>\n",
       "      <th>17233</th>\n",
       "      <td>85.574097</td>\n",
       "      <td>-0.0076</td>\n",
       "      <td>-0.0726</td>\n",
       "      <td>-1.7910</td>\n",
       "      <td>1.793</td>\n",
       "    </tr>\n",
       "    <tr>\n",
       "      <th>17234</th>\n",
       "      <td>85.578660</td>\n",
       "      <td>0.1535</td>\n",
       "      <td>0.0881</td>\n",
       "      <td>-1.4361</td>\n",
       "      <td>1.447</td>\n",
       "    </tr>\n",
       "    <tr>\n",
       "      <th>17235</th>\n",
       "      <td>85.583472</td>\n",
       "      <td>0.3926</td>\n",
       "      <td>0.1603</td>\n",
       "      <td>-0.5206</td>\n",
       "      <td>0.671</td>\n",
       "    </tr>\n",
       "    <tr>\n",
       "      <th>17236</th>\n",
       "      <td>85.587839</td>\n",
       "      <td>0.4043</td>\n",
       "      <td>0.1486</td>\n",
       "      <td>0.0304</td>\n",
       "      <td>0.432</td>\n",
       "    </tr>\n",
       "  </tbody>\n",
       "</table>\n",
       "<p>17237 rows × 5 columns</p>\n",
       "</div>"
      ],
      "text/plain": [
       "            time      ax      ay      az  atotal\n",
       "0       0.000000 -0.0307  0.0410  0.0209   0.055\n",
       "1       0.001124  0.0413  0.0191  0.0289   0.054\n",
       "2       0.001571  0.1131  0.0758  0.0774   0.157\n",
       "3       0.011621  0.0729  0.1319  0.1543   0.216\n",
       "4       0.012436  0.0067  0.0760  0.1240   0.146\n",
       "...          ...     ...     ...     ...     ...\n",
       "17232  85.568552 -0.1385 -0.1635 -0.3993   0.453\n",
       "17233  85.574097 -0.0076 -0.0726 -1.7910   1.793\n",
       "17234  85.578660  0.1535  0.0881 -1.4361   1.447\n",
       "17235  85.583472  0.3926  0.1603 -0.5206   0.671\n",
       "17236  85.587839  0.4043  0.1486  0.0304   0.432\n",
       "\n",
       "[17237 rows x 5 columns]"
      ]
     },
     "execution_count": 16,
     "metadata": {},
     "output_type": "execute_result"
    }
   ],
   "source": [
    "filename = INPUT_DIRECTORY + '1_ankle1_100.csv'\n",
    "\n",
    "new_row.append(filename)\n",
    "\n",
    "data = pd.read_csv(filename)\n",
    "\n",
    "data = data.dropna(axis=1, how='all')\n",
    "data['time'] = data['time'] - data['time'].iloc[0]\n",
    "\n",
    "data.rename(format_column, axis=1, inplace=True)\n",
    "data"
   ]
  },
  {
   "cell_type": "code",
   "execution_count": 17,
   "metadata": {},
   "outputs": [
    {
     "data": {
      "text/plain": [
       "85.58783899999999"
      ]
     },
     "execution_count": 17,
     "metadata": {},
     "output_type": "execute_result"
    }
   ],
   "source": [
    "total_duration = data['time'].iloc[-1]\n",
    "total_duration"
   ]
  },
  {
   "cell_type": "code",
   "execution_count": 18,
   "metadata": {},
   "outputs": [
    {
     "data": {
      "text/plain": [
       "201"
      ]
     },
     "execution_count": 18,
     "metadata": {},
     "output_type": "execute_result"
    }
   ],
   "source": [
    "Fs = get_sampling_rate(data['time'])\n",
    "Fs"
   ]
  },
  {
   "cell_type": "markdown",
   "metadata": {},
   "source": [
    "## Plot x, y, z acceleration and magnitude (raw data)"
   ]
  },
  {
   "cell_type": "code",
   "execution_count": 19,
   "metadata": {},
   "outputs": [],
   "source": [
    "# plot_accel(data)"
   ]
  },
  {
   "cell_type": "code",
   "execution_count": 20,
   "metadata": {},
   "outputs": [],
   "source": [
    "# plot_fft(data)"
   ]
  },
  {
   "cell_type": "markdown",
   "metadata": {},
   "source": [
    "## Filtering data"
   ]
  },
  {
   "cell_type": "code",
   "execution_count": 21,
   "metadata": {
    "colab": {
     "base_uri": "https://localhost:8080/",
     "height": 232
    },
    "id": "7Da3yzCP5x6F",
    "outputId": "e8d79a26-16a8-42e3-9cf5-bac1957c8ed8"
   },
   "outputs": [],
   "source": [
    "data_accel = data[['ax','ay','az','atotal']].copy()\n",
    "data_accel_filtered = data_accel.apply(butterworth_lowpass, axis=0)\n",
    "data_accel_filtered['atotal'] = np.sqrt(data_accel_filtered['ax']**2 + data_accel_filtered['ay']**2 + data_accel_filtered['az']**2)\n",
    "data_accel_filtered['time'] = data['time'].copy()"
   ]
  },
  {
   "cell_type": "code",
   "execution_count": 22,
   "metadata": {},
   "outputs": [],
   "source": [
    "# plot_accel(data_accel_filtered)"
   ]
  },
  {
   "cell_type": "code",
   "execution_count": 23,
   "metadata": {
    "scrolled": false
   },
   "outputs": [],
   "source": [
    "# plot_fft(data_accel_filtered)"
   ]
  },
  {
   "cell_type": "markdown",
   "metadata": {},
   "source": [
    "## Step Frequency Analysis"
   ]
  },
  {
   "cell_type": "code",
   "execution_count": 24,
   "metadata": {},
   "outputs": [
    {
     "data": {
      "text/plain": [
       "100"
      ]
     },
     "execution_count": 24,
     "metadata": {},
     "output_type": "execute_result"
    }
   ],
   "source": [
    "real_step_count = extract_step_count(filename)\n",
    "new_row.append(real_step_count)\n",
    "real_step_count"
   ]
  },
  {
   "cell_type": "code",
   "execution_count": 25,
   "metadata": {},
   "outputs": [
    {
     "data": {
      "text/html": [
       "<div>\n",
       "<style scoped>\n",
       "    .dataframe tbody tr th:only-of-type {\n",
       "        vertical-align: middle;\n",
       "    }\n",
       "\n",
       "    .dataframe tbody tr th {\n",
       "        vertical-align: top;\n",
       "    }\n",
       "\n",
       "    .dataframe thead th {\n",
       "        text-align: right;\n",
       "    }\n",
       "</style>\n",
       "<table border=\"1\" class=\"dataframe\">\n",
       "  <thead>\n",
       "    <tr style=\"text-align: right;\">\n",
       "      <th></th>\n",
       "      <th>freq</th>\n",
       "      <th>value</th>\n",
       "    </tr>\n",
       "  </thead>\n",
       "  <tbody>\n",
       "    <tr>\n",
       "      <th>0</th>\n",
       "      <td>0.000000</td>\n",
       "      <td>80226.670639</td>\n",
       "    </tr>\n",
       "    <tr>\n",
       "      <th>1</th>\n",
       "      <td>0.011661</td>\n",
       "      <td>25152.215276</td>\n",
       "    </tr>\n",
       "    <tr>\n",
       "      <th>2</th>\n",
       "      <td>0.023322</td>\n",
       "      <td>14931.922778</td>\n",
       "    </tr>\n",
       "    <tr>\n",
       "      <th>3</th>\n",
       "      <td>0.034983</td>\n",
       "      <td>5960.177294</td>\n",
       "    </tr>\n",
       "    <tr>\n",
       "      <th>4</th>\n",
       "      <td>0.046644</td>\n",
       "      <td>2307.218481</td>\n",
       "    </tr>\n",
       "    <tr>\n",
       "      <th>...</th>\n",
       "      <td>...</td>\n",
       "      <td>...</td>\n",
       "    </tr>\n",
       "    <tr>\n",
       "      <th>17232</th>\n",
       "      <td>-0.058305</td>\n",
       "      <td>5833.179092</td>\n",
       "    </tr>\n",
       "    <tr>\n",
       "      <th>17233</th>\n",
       "      <td>-0.046644</td>\n",
       "      <td>2307.218481</td>\n",
       "    </tr>\n",
       "    <tr>\n",
       "      <th>17234</th>\n",
       "      <td>-0.034983</td>\n",
       "      <td>5960.177294</td>\n",
       "    </tr>\n",
       "    <tr>\n",
       "      <th>17235</th>\n",
       "      <td>-0.023322</td>\n",
       "      <td>14931.922778</td>\n",
       "    </tr>\n",
       "    <tr>\n",
       "      <th>17236</th>\n",
       "      <td>-0.011661</td>\n",
       "      <td>25152.215276</td>\n",
       "    </tr>\n",
       "  </tbody>\n",
       "</table>\n",
       "<p>17237 rows × 2 columns</p>\n",
       "</div>"
      ],
      "text/plain": [
       "           freq         value\n",
       "0      0.000000  80226.670639\n",
       "1      0.011661  25152.215276\n",
       "2      0.023322  14931.922778\n",
       "3      0.034983   5960.177294\n",
       "4      0.046644   2307.218481\n",
       "...         ...           ...\n",
       "17232 -0.058305   5833.179092\n",
       "17233 -0.046644   2307.218481\n",
       "17234 -0.034983   5960.177294\n",
       "17235 -0.023322  14931.922778\n",
       "17236 -0.011661  25152.215276\n",
       "\n",
       "[17237 rows x 2 columns]"
      ]
     },
     "execution_count": 25,
     "metadata": {},
     "output_type": "execute_result"
    }
   ],
   "source": [
    "accel_fft = get_fft(data_accel_filtered)\n",
    "accel_fft"
   ]
  },
  {
   "cell_type": "code",
   "execution_count": 26,
   "metadata": {},
   "outputs": [
    {
     "data": {
      "text/html": [
       "<div>\n",
       "<style scoped>\n",
       "    .dataframe tbody tr th:only-of-type {\n",
       "        vertical-align: middle;\n",
       "    }\n",
       "\n",
       "    .dataframe tbody tr th {\n",
       "        vertical-align: top;\n",
       "    }\n",
       "\n",
       "    .dataframe thead th {\n",
       "        text-align: right;\n",
       "    }\n",
       "</style>\n",
       "<table border=\"1\" class=\"dataframe\">\n",
       "  <thead>\n",
       "    <tr style=\"text-align: right;\">\n",
       "      <th></th>\n",
       "      <th>freq</th>\n",
       "      <th>value</th>\n",
       "    </tr>\n",
       "  </thead>\n",
       "  <tbody>\n",
       "    <tr>\n",
       "      <th>1</th>\n",
       "      <td>0.011661</td>\n",
       "      <td>25152.215276</td>\n",
       "    </tr>\n",
       "    <tr>\n",
       "      <th>148</th>\n",
       "      <td>1.725822</td>\n",
       "      <td>16497.913495</td>\n",
       "    </tr>\n",
       "    <tr>\n",
       "      <th>75</th>\n",
       "      <td>0.874572</td>\n",
       "      <td>15658.340591</td>\n",
       "    </tr>\n",
       "    <tr>\n",
       "      <th>2</th>\n",
       "      <td>0.023322</td>\n",
       "      <td>14931.922778</td>\n",
       "    </tr>\n",
       "    <tr>\n",
       "      <th>150</th>\n",
       "      <td>1.749144</td>\n",
       "      <td>14485.543075</td>\n",
       "    </tr>\n",
       "    <tr>\n",
       "      <th>151</th>\n",
       "      <td>1.760805</td>\n",
       "      <td>10437.479634</td>\n",
       "    </tr>\n",
       "    <tr>\n",
       "      <th>152</th>\n",
       "      <td>1.772466</td>\n",
       "      <td>9510.679056</td>\n",
       "    </tr>\n",
       "    <tr>\n",
       "      <th>73</th>\n",
       "      <td>0.851250</td>\n",
       "      <td>8915.294738</td>\n",
       "    </tr>\n",
       "    <tr>\n",
       "      <th>223</th>\n",
       "      <td>2.600395</td>\n",
       "      <td>8747.288182</td>\n",
       "    </tr>\n",
       "    <tr>\n",
       "      <th>153</th>\n",
       "      <td>1.784127</td>\n",
       "      <td>8104.867931</td>\n",
       "    </tr>\n",
       "  </tbody>\n",
       "</table>\n",
       "</div>"
      ],
      "text/plain": [
       "         freq         value\n",
       "1    0.011661  25152.215276\n",
       "148  1.725822  16497.913495\n",
       "75   0.874572  15658.340591\n",
       "2    0.023322  14931.922778\n",
       "150  1.749144  14485.543075\n",
       "151  1.760805  10437.479634\n",
       "152  1.772466   9510.679056\n",
       "73   0.851250   8915.294738\n",
       "223  2.600395   8747.288182\n",
       "153  1.784127   8104.867931"
      ]
     },
     "execution_count": 26,
     "metadata": {},
     "output_type": "execute_result"
    }
   ],
   "source": [
    "candidate_freqs = accel_fft[accel_fft.freq > 0].nlargest(10, ['value'])\n",
    "# print(candidate_freqs.to_string(index=False))\n",
    "candidate_freqs"
   ]
  },
  {
   "cell_type": "code",
   "execution_count": 27,
   "metadata": {},
   "outputs": [
    {
     "name": "stdout",
     "output_type": "stream",
     "text": [
      "Predicted step frequency:  0.011660961884318618\n",
      "Predicted step frequency (assuming 60s walking):  1\n",
      "Predicted step count (using total duration):  1\n",
      "Real step count:  100\n"
     ]
    }
   ],
   "source": [
    "# Method 1:\n",
    "# Take the candidate frequency with largest magnitude as the step frequency\n",
    "\n",
    "estimated_freq = candidate_freqs['freq'].iloc[0]\n",
    "new_row.append(estimated_freq)\n",
    "\n",
    "print_step_comparisons(estimated_freq, total_duration, real_step_count)\n",
    "new_row.append(get_predicted_steps(estimated_freq, total_duration))"
   ]
  },
  {
   "cell_type": "code",
   "execution_count": 28,
   "metadata": {},
   "outputs": [
    {
     "name": "stdout",
     "output_type": "stream",
     "text": [
      "Predicted step frequency:  1.31535650055114\n",
      "Predicted step frequency (assuming 60s walking):  79\n",
      "Predicted step count (using total duration):  113\n",
      "Real step count:  100\n"
     ]
    }
   ],
   "source": [
    "# Method 2:\n",
    "# Take the mean of the candidate frequencies as step frequency\n",
    "\n",
    "estimated_freq = candidate_freqs['freq'].mean()\n",
    "new_row.append(estimated_freq)\n",
    "\n",
    "print_step_comparisons(estimated_freq, total_duration, real_step_count)\n",
    "new_row.append(get_predicted_steps(estimated_freq, total_duration))"
   ]
  },
  {
   "cell_type": "code",
   "execution_count": 29,
   "metadata": {},
   "outputs": [
    {
     "name": "stdout",
     "output_type": "stream",
     "text": [
      "Predicted step frequency:  0.87690433370076\n",
      "Predicted step frequency (assuming 60s walking):  53\n",
      "Predicted step count (using total duration):  75\n",
      "Real step count:  100\n"
     ]
    }
   ],
   "source": [
    "# Method 3:\n",
    "# Take the mean of candidate frequencies whose magnitudes are greater than half of the maximum magnitude (excluding 0 Hz)\n",
    "\n",
    "max_value = candidate_freqs['value'].iloc[0]\n",
    "best_freq = candidate_freqs[candidate_freqs['value'] > (max_value / 2)]\n",
    "\n",
    "estimated_freq = best_freq['freq'].mean()\n",
    "new_row.append(estimated_freq)\n",
    "\n",
    "print_step_comparisons(estimated_freq, total_duration, real_step_count)\n",
    "new_row.append(get_predicted_steps(estimated_freq, total_duration))"
   ]
  },
  {
   "cell_type": "code",
   "execution_count": 30,
   "metadata": {},
   "outputs": [
    {
     "data": {
      "text/plain": [
       "['data/1_ankle1_100.csv',\n",
       " 100,\n",
       " 0.011660961884318618,\n",
       " (1, 1),\n",
       " 1.31535650055114,\n",
       " (113, 79),\n",
       " 0.87690433370076,\n",
       " (75, 53)]"
      ]
     },
     "execution_count": 30,
     "metadata": {},
     "output_type": "execute_result"
    }
   ],
   "source": [
    "new_row"
   ]
  },
  {
   "cell_type": "markdown",
   "metadata": {},
   "source": [
    "## Append results to Dataframe"
   ]
  },
  {
   "cell_type": "code",
   "execution_count": 31,
   "metadata": {},
   "outputs": [],
   "source": [
    "results.loc[len(results)] = new_row"
   ]
  },
  {
   "cell_type": "code",
   "execution_count": 32,
   "metadata": {},
   "outputs": [
    {
     "data": {
      "text/html": [
       "<div>\n",
       "<style scoped>\n",
       "    .dataframe tbody tr th:only-of-type {\n",
       "        vertical-align: middle;\n",
       "    }\n",
       "\n",
       "    .dataframe tbody tr th {\n",
       "        vertical-align: top;\n",
       "    }\n",
       "\n",
       "    .dataframe thead th {\n",
       "        text-align: right;\n",
       "    }\n",
       "</style>\n",
       "<table border=\"1\" class=\"dataframe\">\n",
       "  <thead>\n",
       "    <tr style=\"text-align: right;\">\n",
       "      <th></th>\n",
       "      <th>filename</th>\n",
       "      <th>real_steps</th>\n",
       "      <th>freq1</th>\n",
       "      <th>steps1</th>\n",
       "      <th>freq2</th>\n",
       "      <th>steps2</th>\n",
       "      <th>freq3</th>\n",
       "      <th>steps3</th>\n",
       "    </tr>\n",
       "  </thead>\n",
       "  <tbody>\n",
       "    <tr>\n",
       "      <th>0</th>\n",
       "      <td>data/1_ankle1_100.csv</td>\n",
       "      <td>100</td>\n",
       "      <td>0.011661</td>\n",
       "      <td>(1, 1)</td>\n",
       "      <td>1.315357</td>\n",
       "      <td>(113, 79)</td>\n",
       "      <td>0.876904</td>\n",
       "      <td>(75, 53)</td>\n",
       "    </tr>\n",
       "  </tbody>\n",
       "</table>\n",
       "</div>"
      ],
      "text/plain": [
       "                filename  real_steps     freq1  steps1     freq2     steps2  \\\n",
       "0  data/1_ankle1_100.csv         100  0.011661  (1, 1)  1.315357  (113, 79)   \n",
       "\n",
       "      freq3    steps3  \n",
       "0  0.876904  (75, 53)  "
      ]
     },
     "execution_count": 32,
     "metadata": {},
     "output_type": "execute_result"
    }
   ],
   "source": [
    "results"
   ]
  }
 ],
 "metadata": {
  "colab": {
   "provenance": []
  },
  "kernelspec": {
   "display_name": "Python 3 (ipykernel)",
   "language": "python",
   "name": "python3"
  },
  "language_info": {
   "codemirror_mode": {
    "name": "ipython",
    "version": 3
   },
   "file_extension": ".py",
   "mimetype": "text/x-python",
   "name": "python",
   "nbconvert_exporter": "python",
   "pygments_lexer": "ipython3",
   "version": "3.10.7"
  }
 },
 "nbformat": 4,
 "nbformat_minor": 1
}
